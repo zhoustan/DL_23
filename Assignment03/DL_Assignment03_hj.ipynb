{
  "cells": [
    {
      "cell_type": "markdown",
      "metadata": {
        "id": "tOg-u7_HRUFG"
      },
      "source": [
        "# Assignment 3: Universal Function Approximator\n",
        "\n",
        "\n",
        "The goal of this exercise is to train a two-layer fully-connected network to perform one-dimensional non-linear regression via gradient descent. To show the flexibility of the approach, three different functions will be approximated. First, the network and its gradient need to be implemented. Second, target data for three different functions will be generated. Finally, the training procedure will be applied to the data, and the resulting approximated function will be plotted together with the data samples.\n",
        "\n",
        "## Network Implementation\n",
        "\n",
        "A two-layer network is defined by parameters $\\Theta=(\\mathbf W^{(1)},\\vec w^{(2)})$ that are split into $\\mathbf W^{(1)}\\in\\mathbb R^{K\\times {(D+1)}}$ for the first layer and $\\vec w^{(2)}\\in\\mathbb R^{K+1}$ for the second layer. In our case, since we have only a single input, we have $D=1$.\n",
        "For a given input $\\vec x = (1, x)^T$, the network is implemented in three steps:\n",
        "\n",
        "1. Compute the first layer output, aka, the activation: $\\vec a_- = \\mathbf W^{(1)} \\vec x$\n",
        "2. Apply the activation function for each element of $\\vec a_- : \\vec h_- = g(\\vec a_-)$ and prepend the bias neuron $h_0=1$ to arrive at $\\vec h$.\n",
        "3. Compute the output of the network: $y = \\vec w^{(2)}\\ ^T\\vec h$.\n",
        "\n",
        "### Task 1  \n",
        "Implement a function that returns the network output for a given input $\\vec x$ and parameters $\\Theta=(\\mathbf W^{(1)}, \\vec w^{(2)})$. Remember that the input of the function $\\vec x = (1, x)^T$. Also remember to prepend $h_0=1$ in your implementation.\n",
        "\n",
        "We use hyperbolic tangent $(\\tanh)$ as the activation function:\n",
        "\n",
        "\\begin{equation*}\n",
        "    \\tanh(a) = \\frac{e^{a}-e^{-a}}{e^{a}+e^{-a}}\n",
        "\\end{equation*}\n",
        "\n",
        "Note:\n",
        "\n",
        "1. Use the `numpy` implemention of the hyperbolic tangent function.\n",
        "2. Use `numpy.concatenate` or `numpy.insert` to prepend $h_0$.\n",
        "3. Make use of `numpy.dot` to compute matrix-vector and vector-vector products."
      ]
    },
    {
      "cell_type": "code",
      "execution_count": 1,
      "metadata": {
        "id": "945GVY7qRUFI"
      },
      "outputs": [],
      "source": [
        "import numpy\n",
        "import math\n",
        "\n",
        "def network(x, Theta):\n",
        "  W1, w2 = Theta\n",
        "  a_ = numpy.dot(W1,x)\n",
        "  h_ = numpy.tanh(a_)\n",
        "  h = numpy.insert(h_, 0, 1)\n",
        "  y = numpy.dot(w2,h)\n",
        "  return y, h"
      ]
    },
    {
      "cell_type": "markdown",
      "metadata": {
        "id": "5aLG92JdRUFI"
      },
      "source": [
        "Test 1: Sanity Check\n",
        "----------------------------\n",
        "\n",
        "We select a specific number of hidden neurons and create the weights accordingly, using all zeros in the first layer and all ones in the second. The test case below assures that the function from Task 1 actually returns $1$ for those weights.\n",
        "\n",
        "Note: your function should pass the test below."
      ]
    },
    {
      "cell_type": "code",
      "execution_count": 2,
      "metadata": {
        "colab": {
          "base_uri": "https://localhost:8080/"
        },
        "id": "z9iKbyXmRUFJ",
        "outputId": "390ee85a-7812-46bd-8cab-29b72288b011"
      },
      "outputs": [
        {
          "output_type": "stream",
          "name": "stdout",
          "text": [
            "Test passed\n"
          ]
        }
      ],
      "source": [
        "K = 20\n",
        "D = 1\n",
        "W1 = numpy.zeros((K, D+1))\n",
        "w2 = numpy.ones(K+1)\n",
        "x = numpy.random.rand(D+1)\n",
        "\n",
        "y, _ = network(x, (W1, w2))\n",
        "assert abs(1 - y) < 1e-6\n",
        "print(\"Test passed\")"
      ]
    },
    {
      "cell_type": "markdown",
      "metadata": {
        "id": "M3l0yN1fRUFJ"
      },
      "source": [
        "## Gradient Implementation\n",
        "\n",
        "In order to perform gradient descent, we need to define a loss function. As provided in the lecture, the $\\mathcal J^{L_2}$ loss function is defined over a dataset $X=\\{(\\vec x^{[n]}, t^{[n]})\\}$, that is defined as a list of tuples, as follows:\n",
        "\n",
        "$$\n",
        "   \\mathcal J^{L_2} = \\frac{1}{N}\\sum_{i=1}^N (y^{[n]}-t^{[n]})^2\n",
        "$$\n",
        "\n",
        "where $y^{[n]}$ is the output of the network from Task 1 when inputting $\\vec x^{[n]}$. Interestingly, however, we never explicitly need to compute the output of the loss function. It is only used to analytically compute the gradient as shown in the lecture.\n",
        "\n",
        "The gradient is composed of two items, one for each layer. Particularly, for a given dataset $X$, the gradient of loss $J^{L_2}$ is defined as:\n",
        "\n",
        "\\begin{align}\n",
        "  \\frac{\\partial \\mathcal J}{\\partial w_{kd}^{(1)}} &= \\frac{2}{N} \\sum\\limits_{n=1}^N (y^{[n]}-t^{[n]}) w_{k}^{(2)} (1-h_{k}^{[n]}\\cdot h_{k}^{[n]}) x_{d}^{[n]}\\\\\n",
        "  \\frac{\\partial \\mathcal J}{\\partial w_{k}^{(2)}} &= \\frac{2}{N} \\sum\\limits_{n=1}^N (y^{[n]}-t^{[n]}) h_{k}^{[n]}\n",
        "\\end{align}\n",
        "\n",
        "### Task 2\n",
        "Implement a function that returns the gradient as defined in $(1)$ and $(2)$ for a given dataset $X$, and given weights $\\Theta=(\\mathbf W^{(1)},\\vec w^{(2)})$. Make sure that both parts of the gradient are computed. \n",
        "\n",
        "Hint:\n",
        "\n",
        "1. Make use of the the function implemented in Task 1 where appropriate\n",
        "\n",
        "Note:\n",
        "\n",
        "  1. This is a slow implementation. We will see how to speed this up in the next lecture.\n",
        "  2. You can make use of `numpy.zeros` to initialize the gradient.\n",
        "  3. The outper product can be computed via `numpy.outer`.\n",
        "  4. Remember that we used the $\\tanh$ activation function in our network."
      ]
    },
    {
      "cell_type": "code",
      "execution_count": 3,
      "metadata": {
        "id": "bJM6MyP5RUFJ"
      },
      "outputs": [],
      "source": [
        "def gradient(X, Theta):\n",
        "  # split parameters for easier handling\n",
        "  W1, w2 = Theta\n",
        "\n",
        "  # define gradient with respect to both parameters\n",
        "  dW1 = numpy.zeros((K, D + 1))\n",
        "  dw2 = numpy.zeros(K + 1)\n",
        "\n",
        "  # iterate over dataset\n",
        "  for x, t in X:\n",
        "    # compute the gradient\n",
        "    y, h = network(x, (W1, w2))\n",
        "    h_ = numpy.delete(h, 0)\n",
        "    \n",
        "    dW1 += numpy.outer(numpy.delete((y - t) * w2 * (1 - h * h),0) , x)\n",
        "    dw2 += (y - t) * h\n",
        "\n",
        "  # anything else?\n",
        "  dW1 = dW1 * 2 / len(X)\n",
        "  dw2 = dw2 * 2 / len(X)\n",
        "  \n",
        "  return dW1, dw2"
      ]
    },
    {
      "cell_type": "markdown",
      "metadata": {
        "id": "zK4IpbjqRUFK"
      },
      "source": [
        "## Gradient Descent\n",
        "\n",
        "The procedure of gradient descent is the repeated application of two steps.\n",
        " \n",
        "1. The gradient of loss $\\nabla_{\\Theta}\\mathcal J^{L_2}$ is computed based on the current value of the parameters $\\Theta=(\\mathbf W^{(1)},\\vec w^{(2)})$.\n",
        "2. The weights are updated by moving a small step $\\eta$ into the direction of the negative gradient:\n",
        "\n",
        "$$\n",
        "    \\Theta = \\Theta - \\eta \\nabla_{\\Theta}\\mathcal J\n",
        "$$\n",
        "\n",
        "As stopping criterion, we select the number of training epochs to be 10000.\n",
        "\n",
        "### Task 3\n",
        "Implement a function that performs gradient descent for a given dataset $X$, given initial parameters $\\Theta$ and a given learning rate $\\eta$ and returns the optimized parameters $\\Theta^*$."
      ]
    },
    {
      "cell_type": "code",
      "execution_count": 4,
      "metadata": {
        "id": "XHqZNcj4RUFK"
      },
      "outputs": [],
      "source": [
        "def gradient_descent(X, Theta, eta):\n",
        "  epochs = 10000\n",
        "  # perform iterative gradient descent\n",
        "  W1 = Theta[0]\n",
        "  w2 = Theta[1]\n",
        "\n",
        "  for epoch in range(epochs):\n",
        "    # compute the gradient\n",
        "    dW1, dw2 = gradient(X, Theta)\n",
        "\n",
        "    # update the parameters\n",
        "    Theta[0] -= dW1 * eta\n",
        "    Theta[1] -= dw2 * eta\n",
        "\n",
        "  # return optimized parameters\n",
        "  return Theta"
      ]
    },
    {
      "cell_type": "markdown",
      "metadata": {
        "id": "hJOQ7hPPRUFK"
      },
      "source": [
        "## Generate Datasets\n",
        "\n",
        "In total, we will test our gradient descent function with three different datasets. Particularly, we approximate:\n",
        "\n",
        "1. $X_1: t = \\sin(2x)$ for $x\\in[-2,2]$\n",
        "2. $X_2: t = e^{-2x^2}$ for $x\\in[-2,2]$\n",
        "3. $X_3: t = -x^5 - 3x^4 + 11x^3 + 27x^2 - 10x - 64$ for $x\\in[-4.5,3.5]$\n",
        "\n",
        "### Task 4\n",
        "\n",
        "Generate dataset $X_1$, for $N=50$ samples randomly drawn from range $x\\in[-2,2]$. \n",
        "Generate data $X_2$ for $N=30$ samples randomly drawn from range $x\\in[-2,2]$. \n",
        "Generate dataset $X_3$ for $N=200$ samples randomly drawn from range $x\\in[-4.5,3.5]$. \n",
        "Implement all three datasets as lists of tuples: $\\{(\\vec x^{[n]}, t^{[n]})\\mid 1\\leq n\\leq N\\}$.\n",
        "\n",
        "Note:\n",
        "\n",
        "  1. You can use `numpy.random.uniform` to create uniformly distributed samples for $x$.\n",
        "  2. Make sure that $\\vec x = (1, x)^T$ for each sample.\n",
        "  3. You can make use of `numpy.sin`, `numpy.exp` and `numpy.pow` to compute target values."
      ]
    },
    {
      "cell_type": "code",
      "execution_count": 5,
      "metadata": {
        "id": "InCFCUe4RUFK"
      },
      "outputs": [],
      "source": [
        "x1 = numpy.random.uniform(low = -2, high = 2, size = (50,1))\n",
        "t1 = numpy.sin(2 * x1)\n",
        "x1 = numpy.concatenate((numpy.ones((50,1)), x1), axis = 1)\n",
        "X1 = [(tuple(x1[i]), float(t1[i])) for i in range(len(x1))]\n",
        "\n",
        "x2 = numpy.random.uniform(low = -2, high = 2, size = (30,1))\n",
        "t2 = numpy.exp(-2 * x2 * x2)\n",
        "x2 = numpy.concatenate((numpy.ones((30,1)), x2), axis = 1)\n",
        "X2 = [(tuple(x2[i]), float(t2[i])) for i in range(len(x2))]\n",
        "\n",
        "x3 = numpy.random.uniform(low = -4.5, high = 3.5, size = (200,1))\n",
        "t3 = -numpy.power(x3,5) - 3 * numpy.power(x3,4) + 11 * numpy.power(x3,3) + 27 * numpy.power(x3,2) - 10 * x3 -64\n",
        "x3 = numpy.concatenate((numpy.ones((200,1)), x3), axis = 1)\n",
        "X3 = [(tuple(x3[i]), float(t3[i])) for i in range(len(x3))]"
      ]
    },
    {
      "cell_type": "markdown",
      "metadata": {
        "id": "B4JimLUNRUFK"
      },
      "source": [
        "### Test 2: Sanity Check\n",
        "\n",
        "The test case below assures that the elements of each generated dataset are tuples with two elements, that the first element ($\\vec x$) is a vector with two numbers, and that the second element ($t$) is a float."
      ]
    },
    {
      "cell_type": "code",
      "execution_count": 6,
      "metadata": {
        "colab": {
          "base_uri": "https://localhost:8080/"
        },
        "id": "ohtyO4vvRUFL",
        "outputId": "d4a260de-98de-4d5d-e826-60a8acb12352"
      },
      "outputs": [
        {
          "output_type": "stream",
          "name": "stdout",
          "text": [
            "Test passed!\n"
          ]
        }
      ],
      "source": [
        "assert all(\n",
        "    isinstance(x, (tuple,list)) and \n",
        "    len(x) == 2 and \n",
        "    isinstance(x[0], (tuple,list,numpy.ndarray)) and \n",
        "    len(x[0]) == 2 and \n",
        "    isinstance(x[1], float)\n",
        "    for X in (X1, X2, X3)\n",
        "    for x in X\n",
        ")\n",
        "\n",
        "print('Test passed!')"
      ]
    },
    {
      "cell_type": "markdown",
      "metadata": {
        "id": "iGV3xksHRUFL"
      },
      "source": [
        "## Function Approximation\n",
        "\n",
        "Finally, we want to make use of our gradient descent implementation to approximate our functions. In order to see our success, we want to plot the functions together with the data.\n",
        "\n",
        "### Task 5 (theoretical question)\n",
        "\n",
        "When looking at the example plots in the exercise slides (exemplary solutions for the plotting Task 8), how many hidden neurons $K$ do we need in order to approximate the functions? Is there any difference\n",
        "1 between the three target functions?"
      ]
    },
    {
      "cell_type": "code",
      "execution_count": 7,
      "metadata": {
        "id": "rBPbHyC9RUFL"
      },
      "outputs": [],
      "source": [
        "K1 = 3\n",
        "K2 = 4\n",
        "# K3 = 5\n",
        "# K3 = 6\n",
        "K3 = 20"
      ]
    },
    {
      "cell_type": "markdown",
      "metadata": {
        "id": "taDEEk-iRUFL"
      },
      "source": [
        "### Task 6\n",
        "\n",
        "For each of the datasets, randomly initialize the parameters $\\Theta_1,\\Theta_2,\\Theta_3\\in[-1,1]$ according to the number of hidden neurons estimated in Task 5.\n",
        "\n",
        "Note:\n",
        "\n",
        "  1. You can use `numpy.random.uniform` to initialize the weights.\n",
        "  2. Make sure that the weight matrices are instantiated in the correct dimensions."
      ]
    },
    {
      "cell_type": "code",
      "execution_count": 8,
      "metadata": {
        "id": "b1Vv1DW0RUFL"
      },
      "outputs": [],
      "source": [
        "Theta1_1 = numpy.random.uniform(low = -1, high = 1, size = (K1, D + 1))\n",
        "Theta1_2 = numpy.random.uniform(low = -1, high = 1, size = (K1 + 1))\n",
        "Theta1 = [Theta1_1, Theta1_2]\n",
        "Theta2_1 = numpy.random.uniform(low = -1, high = 1, size = (K2, D + 1))\n",
        "Theta2_2 = numpy.random.uniform(low = -1, high = 1, size = (K2 + 1))\n",
        "Theta2 = [Theta2_1, Theta2_2]\n",
        "Theta3_1 = numpy.random.uniform(low = -1, high = 1, size = (K3, D + 1))\n",
        "Theta3_2 = numpy.random.uniform(low = -1, high = 1, size = (K3 + 1))\n",
        "Theta3 = [Theta3_1, Theta3_2]"
      ]
    },
    {
      "cell_type": "markdown",
      "metadata": {
        "id": "g-Y7OKXwRUFL"
      },
      "source": [
        "### Task 7\n",
        "\n",
        "Call gradient descent function from Task 3 using the datasets $X_1, X_2, X_3$, the according created parameters $\\Theta_1,\\Theta_2,\\Theta_3$ and a learning rate of $\\eta=0.1$. Store the resulting optimized weights $\\Theta_1^*, \\Theta_2^*, \\Theta_3^*$ and the loss values.\n",
        "\n",
        "Optimize the learning rate $\\eta$ for each of the three functions. Do you see any differences? What are the best learning rates that you can find?\n",
        "\n",
        "WARNING: Depending on the implementation, this might run for several minutes!"
      ]
    },
    {
      "cell_type": "code",
      "execution_count": 9,
      "metadata": {
        "colab": {
          "base_uri": "https://localhost:8080/"
        },
        "id": "ltm8rK8ARUFM",
        "outputId": "94ca42e4-6438-460f-f0b8-0e97db1b5efe"
      },
      "outputs": [
        {
          "output_type": "stream",
          "name": "stdout",
          "text": [
            "Best learning rates: dataset1: 0.1; dataset2: 0.010000000000000002; dataset3: 0.0010000000000000002.\n"
          ]
        }
      ],
      "source": [
        "import copy\n",
        "\n",
        "lr_base = 0.1\n",
        "lr = []\n",
        "loss = []\n",
        "weights = []\n",
        "\n",
        "for i in range(1,5):\n",
        "  eta = numpy.power(lr_base,i)\n",
        "\n",
        "  # dataset1\n",
        "  K = K1\n",
        "  Theta1_new = copy.deepcopy(Theta1)\n",
        "  Theta1_new = gradient_descent(X1, Theta1_new, eta)\n",
        "  loss1 = 0\n",
        "  for x, t in X1:\n",
        "    y, h = network(x, Theta1_new)\n",
        "    loss1 += numpy.power(y-t,2)\n",
        "  loss1 /= len(X1)\n",
        "\n",
        "  # dataset2\n",
        "  K = K2\n",
        "  Theta2_new = copy.deepcopy(Theta2)\n",
        "  Theta2_new = gradient_descent(X2, Theta2_new, eta)\n",
        "  loss2 = 0\n",
        "  for x, t in X2:\n",
        "    y, h = network(x, Theta2_new)\n",
        "    loss2 += numpy.power(y-t,2)\n",
        "  loss2 /= len(X2)\n",
        "\n",
        "  # dataset3\n",
        "  K = K3\n",
        "  Theta3_new = copy.deepcopy(Theta3)\n",
        "  Theta3_new = gradient_descent(X3, Theta3_new, eta)\n",
        "  loss3 = 0\n",
        "  for x, t in X3:\n",
        "    y, h = network(x, Theta3_new)\n",
        "    loss3 += numpy.power(y-t,2)\n",
        "  loss3 /= len(X3)\n",
        "\n",
        "  lr.append(eta)\n",
        "  weights.append([Theta1_new, Theta2_new, Theta3_new])\n",
        "  loss.append([loss1, loss2, loss3])\n",
        "\n",
        "optimized_weights = []\n",
        "optimized_loss = []\n",
        "\n",
        "min_index = numpy.nanargmin(loss, axis=0)\n",
        "print(\"Best learning rates: dataset1: {}; dataset2: {}; dataset3: {}.\".format(lr[0],lr[1],lr[2]))\n",
        "\n",
        "for i in range(3):\n",
        "  optimized_weights.append(weights[min_index[i]][i])\n",
        "  optimized_loss.append(loss[min_index[i]][i])\n"
      ]
    },
    {
      "cell_type": "markdown",
      "metadata": {
        "id": "OvKyCor-RUFM"
      },
      "source": [
        "## Data and Function Plotting\n",
        "\n",
        "### Task 8\n",
        "\n",
        "Implement a plotting function that takes a given dataset $X$, given parameters $\\Theta$ and a defined range $R$. Each data sample $(x^{[n]},t^{[n]})$ of the dataset is plotted as an $''x''$. In order to plot the function that is approximated by the network, generate sufficient equally-spaced input values $x\\in R$, compute the network output $y$ for these inputs, and plot them with a line.\n",
        "\n",
        "Note:\n",
        "\n",
        "  1. The dataset $X$ is defined as above, a list of tuples $(\\vec x, t)$.\n",
        "  2. Each input in the dataset is defined as $\\vec x = (1,x)^T$.\n",
        "  3. Equidistant points can be obtained via `numpy.arange`."
      ]
    },
    {
      "cell_type": "code",
      "execution_count": 10,
      "metadata": {
        "id": "sCYsEzu4RUFM"
      },
      "outputs": [],
      "source": [
        "from matplotlib import pyplot\n",
        "def plot(X, Theta, R):\n",
        "  # first, plot data samples\n",
        "  x_samples = [x_value for one, x_value in numpy.array(X)[:,0]]\n",
        "  y_samples = numpy.array(X)[:,1]\n",
        "  pyplot.plot(x_samples, y_samples, \"rx\", label=\"Data\")\n",
        "\n",
        "  # define equidistant points from R[0] to R[1] to evaluate the network\n",
        "  x = numpy.arange(R[0], R[1], 0.1)\n",
        "  # compute the network outputs for these values\n",
        "  y = []\n",
        "  for ele in x:\n",
        "    output, _ = network([1,ele], Theta)\n",
        "    y.append(output)\n",
        "  # plot network approximation\n",
        "  pyplot.plot(x,y,\"k-\", label=\"network\")\n",
        "  pyplot.legend()"
      ]
    },
    {
      "cell_type": "markdown",
      "metadata": {
        "id": "xrMr_35CRUFM"
      },
      "source": [
        "### Task 9\n",
        "\n",
        "For each of the datasets and their according optimized parameters, call the plotting function from Task 8. Use range $R=[-3,3]$ for dataset $X_1$ and $X_2$, and range $R=[-5.5,4.5]$ for dataset $X_3$. Note that the first element of range $R$ should be the lowest $x$-location, and the second element of $R$ the highest value for $x$. Did the networks approximate the functions? What can we do if not?"
      ]
    },
    {
      "cell_type": "code",
      "execution_count": 11,
      "metadata": {
        "id": "vMrpYsivRUFM",
        "colab": {
          "base_uri": "https://localhost:8080/",
          "height": 300
        },
        "outputId": "f794a897-9549-4084-efda-d187b5b35f2e"
      },
      "outputs": [
        {
          "output_type": "stream",
          "name": "stderr",
          "text": [
            "<ipython-input-10-e7c8363daf62>:4: VisibleDeprecationWarning: Creating an ndarray from ragged nested sequences (which is a list-or-tuple of lists-or-tuples-or ndarrays with different lengths or shapes) is deprecated. If you meant to do this, you must specify 'dtype=object' when creating the ndarray.\n",
            "  x_samples = [x_value for one, x_value in numpy.array(X)[:,0]]\n",
            "<ipython-input-10-e7c8363daf62>:5: VisibleDeprecationWarning: Creating an ndarray from ragged nested sequences (which is a list-or-tuple of lists-or-tuples-or ndarrays with different lengths or shapes) is deprecated. If you meant to do this, you must specify 'dtype=object' when creating the ndarray.\n",
            "  y_samples = numpy.array(X)[:,1]\n"
          ]
        },
        {
          "output_type": "display_data",
          "data": {
            "text/plain": [
              "<Figure size 720x216 with 3 Axes>"
            ],
            "image/png": "[encoded data removed]"
          },
          "metadata": {
            "needs_background": "light"
          }
        }
      ],
      "source": [
        "figure = pyplot.figure(figsize=(10,3))\n",
        "\n",
        "R12 = [-3, 3]\n",
        "R3 = [-5.5, 4.5]\n",
        "\n",
        "# plot first function\n",
        "pyplot.subplot(131)\n",
        "plot(X1, optimized_weights[0], R12)\n",
        "\n",
        "# plot second function\n",
        "pyplot.subplot(132)\n",
        "plot(X2, optimized_weights[1], R12)\n",
        "\n",
        "# plot third function\n",
        "pyplot.subplot(133)\n",
        "plot(X3, optimized_weights[2], R3)\n"
      ]
    }
  ],
  "metadata": {
    "colab": {
      "provenance": []
    },
    "interpreter": {
      "hash": "2dd53f8ad749bca69f7250ce75eb4f0def59db5cf79075a9716322ffc58e8a2e"
    },
    "kernelspec": {
      "display_name": "Python 3 (ipykernel)",
      "language": "python",
      "name": "python3"
    },
    "language_info": {
      "name": "python",
      "version": "3.8.13"
    }
  },
  "nbformat": 4,
  "nbformat_minor": 0
}